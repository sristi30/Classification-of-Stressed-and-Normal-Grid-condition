{
 "cells": [
  {
   "cell_type": "code",
   "execution_count": 76,
   "metadata": {},
   "outputs": [],
   "source": [
    "import pandas as pd\n",
    "from sklearn import metrics\n",
    "from sklearn.tree import DecisionTreeClassifier, export_graphviz\n",
    "from sklearn.decomposition import PCA\n",
    "from sklearn import svm\n",
    "from sklearn.metrics import confusion_matrix\n",
    "from sklearn.model_selection import KFold\n",
    "import pickle\n",
    "from sklearn.ensemble import RandomForestClassifier\n",
    "import numpy as np\n",
    "from sklearn.metrics import roc_auc_score\n",
    "from sklearn.model_selection import GridSearchCV\n",
    "from sklearn.neural_network import MLPClassifier\n",
    "from sklearn.metrics import f1_score\n",
    "import matplotlib.pyplot as plt"
   ]
  },
  {
   "cell_type": "code",
   "execution_count": 77,
   "metadata": {},
   "outputs": [],
   "source": [
    "loc = \"HW_TESLA.xlt\""
   ]
  },
  {
   "cell_type": "markdown",
   "metadata": {},
   "source": [
    "# Loading data"
   ]
  },
  {
   "cell_type": "code",
   "execution_count": 78,
   "metadata": {},
   "outputs": [],
   "source": [
    "df = pd.read_excel(r'HW_TESLA.xlt') "
   ]
  },
  {
   "cell_type": "markdown",
   "metadata": {},
   "source": [
    "# Form train and test set"
   ]
  },
  {
   "cell_type": "code",
   "execution_count": 79,
   "metadata": {},
   "outputs": [
    {
     "name": "stdout",
     "output_type": "stream",
     "text": [
      "(3112, 132)\n",
      "(3112,)\n",
      "(1038, 132)\n",
      "(1038,)\n"
     ]
    }
   ],
   "source": [
    "#splitting into train and test  and val\n",
    "train=df.sample(frac=0.75,random_state=200) #random state is a seed value\n",
    "test=df.drop(train.index)\n",
    "\n",
    "features = list(train.columns[1:])\n",
    "\n",
    "x_train = train[features]\n",
    "y_train = train['STATIC']\n",
    "x_test = test[features]\n",
    "y_test = test['STATIC']\n",
    "\n",
    "print(x_train.shape)\n",
    "print(y_train.shape)\n",
    "print(x_test.shape)\n",
    "print(y_test.shape)\n",
    "\n",
    "train_y = y_train.values"
   ]
  },
  {
   "cell_type": "markdown",
   "metadata": {},
   "source": [
    "# Scree Plot"
   ]
  },
  {
   "cell_type": "code",
   "execution_count": 80,
   "metadata": {},
   "outputs": [
    {
     "data": {
      "image/png": "[encoded data removed]",
      "text/plain": [
       "<Figure size 432x288 with 1 Axes>"
      ]
     },
     "metadata": {},
     "output_type": "display_data"
    }
   ],
   "source": [
    "U, S, V  = np.linalg.svd(x_train, full_matrices=True)\n",
    "sum_val = np.sum(S)\n",
    "curr_sum = 0\n",
    "x = []\n",
    "for i in S:\n",
    "    curr_sum += i\n",
    "    x.append(curr_sum/sum_val)\n",
    "plt.plot(x, 'bo', linewidth=0.5)\n",
    "plt.title('Scree Plot')\n",
    "plt.xlabel('Component number')\n",
    "plt.ylabel('Proportion of variance')\n",
    "plt.show()"
   ]
  },
  {
   "cell_type": "markdown",
   "metadata": {},
   "source": [
    "# PCA "
   ]
  },
  {
   "cell_type": "code",
   "execution_count": 81,
   "metadata": {},
   "outputs": [
    {
     "name": "stdout",
     "output_type": "stream",
     "text": [
      "(3112, 5)\n",
      "(1038, 5)\n"
     ]
    }
   ],
   "source": [
    "pca = PCA(n_components=5)\n",
    "pca.fit(x_train)\n",
    "#transform the train data into principal components\n",
    "train_x = pca.transform(x_train)\n",
    "print(train_x.shape)\n",
    "# transform the test data into principal components\n",
    "test_x = pca.transform(x_test)\n",
    "print(test_x.shape)"
   ]
  },
  {
   "cell_type": "markdown",
   "metadata": {},
   "source": [
    "# Decision tree without PCA"
   ]
  },
  {
   "cell_type": "code",
   "execution_count": 82,
   "metadata": {},
   "outputs": [
    {
     "name": "stdout",
     "output_type": "stream",
     "text": [
      "Test Accuracy:  0.9951830443159922\n",
      "True positive:  627\n",
      "True negative:  406\n",
      "False positive:  1\n",
      "False negative:  4\n",
      "Test F1 score:  0.9960285941223193\n"
     ]
    }
   ],
   "source": [
    "kf = KFold(n_splits=3, random_state=200, shuffle=True)\n",
    "DT = DecisionTreeClassifier(random_state=100)\n",
    "DT.fit(x_train, y_train)\n",
    "y_pred = DT.predict(x_test)\n",
    "print(\"Test Accuracy: \",metrics.accuracy_score(y_test, y_pred))\n",
    "tn, fp, fn, tp = confusion_matrix(y_test, y_pred).ravel()\n",
    "print(\"True positive: \", tp)\n",
    "print(\"True negative: \",tn)\n",
    "print(\"False positive: \",fp)\n",
    "print(\"False negative: \", fn)\n",
    "test_f1 = f1_score(y_test, y_pred)\n",
    "print(\"Test F1 score: \", test_f1)"
   ]
  },
  {
   "cell_type": "markdown",
   "metadata": {},
   "source": [
    "# Decision tree with PCA"
   ]
  },
  {
   "cell_type": "code",
   "execution_count": 83,
   "metadata": {},
   "outputs": [
    {
     "name": "stdout",
     "output_type": "stream",
     "text": [
      "Mean f1 score:  0.9864486686838041\n",
      "Mean accuracy:  0.9836121314819873\n"
     ]
    }
   ],
   "source": [
    "kf = KFold(n_splits=3, random_state=200, shuffle=True)\n",
    "\n",
    "mean_f1 = 0\n",
    "mean_accuracy = 0\n",
    "for train_index, test_index in kf.split(train_x):\n",
    "    kx_train = train_x[train_index]\n",
    "    kx_test = train_x[test_index]\n",
    "    ky_train = train_y[train_index]\n",
    "    ky_test = train_y[test_index]\n",
    "    DT = DecisionTreeClassifier(random_state=100)\n",
    "    DT.fit(kx_train, ky_train)\n",
    "    y_pred = DT.predict(kx_test)\n",
    "    f1 = f1_score(ky_test, y_pred) \n",
    "    mean_f1 += f1\n",
    "    accuracy = metrics.accuracy_score(ky_test, y_pred)\n",
    "    mean_accuracy += accuracy\n",
    "mean_f1 /= 3\n",
    "mean_accuracy /= 3\n",
    "print(\"Mean f1 score: \", mean_f1)\n",
    "print(\"Mean accuracy: \", mean_accuracy)"
   ]
  },
  {
   "cell_type": "markdown",
   "metadata": {},
   "source": [
    "# SVM with PCA"
   ]
  },
  {
   "cell_type": "code",
   "execution_count": 84,
   "metadata": {},
   "outputs": [
    {
     "name": "stdout",
     "output_type": "stream",
     "text": [
      "Mean f1 score:  0.9914597013164667\n",
      "Mean accuracy:  0.9897173247516892\n"
     ]
    }
   ],
   "source": [
    "mean_f1 = 0\n",
    "mean_accuracy = 0\n",
    "for train_index, test_index in kf.split(train_x):\n",
    "    kx_train= train_x[train_index]\n",
    "    kx_test = train_x[test_index]\n",
    "    ky_train = train_y[train_index]\n",
    "    ky_test = train_y[test_index]\n",
    "    SVM = svm.SVC(kernel='linear', class_weight='balanced', random_state=100)\n",
    "    SVM.fit(kx_train, ky_train)\n",
    "    y_pred = SVM.predict(kx_test)\n",
    "    f1 = f1_score(ky_test, y_pred)         \n",
    "    mean_f1 += f1\n",
    "    accuracy = metrics.accuracy_score(ky_test, y_pred)\n",
    "    mean_accuracy += accuracy\n",
    "mean_f1 /= 3\n",
    "mean_accuracy /= 3\n",
    "print(\"Mean f1 score: \", mean_f1)\n",
    "print(\"Mean accuracy: \", mean_accuracy)"
   ]
  },
  {
   "cell_type": "markdown",
   "metadata": {},
   "source": [
    "# Random Forests with PCA"
   ]
  },
  {
   "cell_type": "code",
   "execution_count": 85,
   "metadata": {},
   "outputs": [
    {
     "name": "stdout",
     "output_type": "stream",
     "text": [
      "Mean f1 score:  0.9848323199265062\n",
      "Mean accuracy:  0.9816838008459015\n"
     ]
    }
   ],
   "source": [
    "mean_f1 = 0\n",
    "mean_accuracy = 0\n",
    "for train_index, test_index in kf.split(train_x):\n",
    "    kx_train= train_x[train_index]\n",
    "    kx_test = train_x[test_index]\n",
    "    ky_train = train_y[train_index]\n",
    "    ky_test = train_y[test_index]\n",
    "    RF = RandomForestClassifier(n_estimators=350, max_depth=5, random_state=99)\n",
    "    RF.fit(kx_train, ky_train)\n",
    "    y_pred = RF.predict(kx_test)\n",
    "    f1 = f1_score(ky_test, y_pred)         \n",
    "    mean_f1 += f1\n",
    "    accuracy = metrics.accuracy_score(ky_test, y_pred)\n",
    "    mean_accuracy += accuracy\n",
    "mean_f1 /= 3\n",
    "mean_accuracy /= 3\n",
    "print(\"Mean f1 score: \", mean_f1) \n",
    "print(\"Mean accuracy: \", mean_accuracy)"
   ]
  },
  {
   "cell_type": "markdown",
   "metadata": {},
   "source": [
    "# Neural network with PCA"
   ]
  },
  {
   "cell_type": "code",
   "execution_count": 86,
   "metadata": {},
   "outputs": [
    {
     "name": "stdout",
     "output_type": "stream",
     "text": [
      "Mean f1 score:  0.9965551077422948\n",
      "Mean accuracy:  0.9958234470388806\n"
     ]
    }
   ],
   "source": [
    "mean_f1 = 0\n",
    "mean_accuracy = 0\n",
    "for train_index, test_index in kf.split(train_x):\n",
    "    kx_train= train_x[train_index]\n",
    "    kx_test = train_x[test_index]\n",
    "    ky_train = train_y[train_index]\n",
    "    ky_test = train_y[test_index]\n",
    "    NN = MLPClassifier(solver='lbfgs', alpha=1e-5, hidden_layer_sizes=(5), random_state=1)\n",
    "    NN.fit(kx_train, ky_train)\n",
    "    y_pred = NN.predict(kx_test)\n",
    "    f1 = f1_score(ky_test, y_pred)         \n",
    "    mean_f1 += f1\n",
    "    accuracy = metrics.accuracy_score(ky_test, y_pred)\n",
    "    mean_accuracy += accuracy\n",
    "mean_f1 /= 3\n",
    "mean_accuracy /= 3\n",
    "print(\"Mean f1 score: \", mean_f1)\n",
    "print(\"Mean accuracy: \", mean_accuracy)"
   ]
  },
  {
   "cell_type": "markdown",
   "metadata": {},
   "source": [
    "# Neural Network with PCA and random oversampling"
   ]
  },
  {
   "cell_type": "code",
   "execution_count": 87,
   "metadata": {},
   "outputs": [
    {
     "name": "stdout",
     "output_type": "stream",
     "text": [
      "(1229, 133)\n",
      "(1883, 133)\n",
      "(654, 133)\n",
      "(3766, 133)\n",
      "(3766, 132)\n",
      "(3766,)\n",
      "(3766, 5)\n",
      "(1038, 5)\n"
     ]
    }
   ],
   "source": [
    "# Random oversampling\n",
    "negative_train = train[train.STATIC == 0]\n",
    "positive_train = train[train.STATIC == 1]\n",
    "print(negative_train.shape)\n",
    "print(positive_train.shape)\n",
    "oversampled_negative = negative_train.sample(654, random_state=200)\n",
    "print(oversampled_negative.shape)\n",
    "\n",
    "#append oversampled data to original data\n",
    "train = pd.concat([oversampled_negative, train], ignore_index=True)\n",
    "print(train.shape)\n",
    "x_train = train[features]\n",
    "y_train = train['STATIC']\n",
    "train_y = y_train.values\n",
    "print(x_train.shape)\n",
    "print(y_train.shape)\n",
    "\n",
    "# PCA\n",
    "pca = PCA(n_components=5)\n",
    "pca.fit(x_train)\n",
    "#transform the train data into principal components\n",
    "train_x = pca.transform(x_train)\n",
    "print(train_x.shape)\n",
    "# transform the test data into principal components\n",
    "test_x = pca.transform(x_test)\n",
    "print(test_x.shape)"
   ]
  },
  {
   "cell_type": "code",
   "execution_count": 88,
   "metadata": {},
   "outputs": [
    {
     "name": "stdout",
     "output_type": "stream",
     "text": [
      "Mean f1 score:  0.99704645118178\n",
      "Mean accuracy:  0.9970787761903553\n"
     ]
    }
   ],
   "source": [
    "# Cross validation\n",
    "mean_f1 = 0\n",
    "mean_accuracy = 0\n",
    "for train_index, test_index in kf.split(train_x):\n",
    "    kx_train= train_x[train_index]\n",
    "    kx_test = train_x[test_index]\n",
    "    ky_train = train_y[train_index]\n",
    "    ky_test = train_y[test_index]\n",
    "    NN = MLPClassifier(solver='lbfgs', alpha=1e-5, hidden_layer_sizes=(10), random_state=1)\n",
    "    NN.fit(kx_train, ky_train)\n",
    "    y_pred = NN.predict(kx_test)\n",
    "    f1 = f1_score(ky_test, y_pred)         \n",
    "    mean_f1 += f1\n",
    "    accuracy = metrics.accuracy_score(ky_test, y_pred)\n",
    "    mean_accuracy += accuracy\n",
    "mean_f1 /= 3\n",
    "mean_accuracy /= 3\n",
    "print(\"Mean f1 score: \", mean_f1)\n",
    "print(\"Mean accuracy: \", mean_accuracy)"
   ]
  },
  {
   "cell_type": "markdown",
   "metadata": {},
   "source": [
    "# Fit and save the best model"
   ]
  },
  {
   "cell_type": "code",
   "execution_count": 89,
   "metadata": {},
   "outputs": [
    {
     "name": "stdout",
     "output_type": "stream",
     "text": [
      "Test Accuracy:  0.9971098265895953\n",
      "True positive:  630\n",
      "True negative:  405\n",
      "False positive:  2\n",
      "False negative:  1\n",
      "Test F1 score:  0.997624703087886\n"
     ]
    }
   ],
   "source": [
    "NN = MLPClassifier(solver='lbfgs', alpha=1e-5, hidden_layer_sizes=(10), random_state=1)\n",
    "NN.fit(train_x, train_y)\n",
    "y_pred = NN.predict(test_x)\n",
    "print(\"Test Accuracy: \",metrics.accuracy_score(y_test, y_pred))\n",
    "tn, fp, fn, tp = confusion_matrix(y_test, y_pred).ravel()\n",
    "print(\"True positive: \", tp)\n",
    "print(\"True negative: \",tn)\n",
    "print(\"False positive: \",fp)\n",
    "print(\"False negative: \", fn)\n",
    "test_f1 = f1_score(y_test, y_pred)\n",
    "print(\"Test F1 score: \", test_f1)\n",
    "\n",
    "with open('best_nn.pkl', 'wb') as f:\n",
    "    pickle.dump(NN, f)  "
   ]
  },
  {
   "cell_type": "markdown",
   "metadata": {
    "collapsed": true
   },
   "source": [
    "# Test using random 60 data values(For demo)"
   ]
  },
  {
   "cell_type": "code",
   "execution_count": 90,
   "metadata": {},
   "outputs": [
    {
     "name": "stdout",
     "output_type": "stream",
     "text": [
      "(60, 133)\n"
     ]
    }
   ],
   "source": [
    "final_test = df.sample(60)\n",
    "print(final_test.shape)\n",
    "x_final_test = final_test[features]\n",
    "y_final_test = final_test['STATIC']"
   ]
  },
  {
   "cell_type": "code",
   "execution_count": 91,
   "metadata": {},
   "outputs": [
    {
     "name": "stdout",
     "output_type": "stream",
     "text": [
      "Test Accuracy:  1.0\n",
      "True positive:  34\n",
      "True neative:  26\n",
      "False positive:  0\n",
      "False negative:  0\n",
      "Test F1 score:  1.0\n"
     ]
    }
   ],
   "source": [
    "#transform x_final_test to pca components\n",
    "final_test_x = pca.transform(x_final_test)\n",
    "\n",
    "#load best model\n",
    "with open('best_nn.pkl', 'rb') as f:\n",
    "    NN = pickle.load(f)\n",
    "    \n",
    "#predict using loaded model\n",
    "y_pred = NN.predict(final_test_x)\n",
    "print(\"Test Accuracy: \",metrics.accuracy_score(y_final_test, y_pred))\n",
    "tn, fp, fn, tp = confusion_matrix(y_final_test, y_pred).ravel()\n",
    "print(\"True positive: \", tp)\n",
    "print(\"True neative: \",tn)\n",
    "print(\"False positive: \",fp)\n",
    "print(\"False negative: \", fn)\n",
    "final_test_f1 = f1_score(y_final_test, y_pred)\n",
    "print(\"Test F1 score: \", final_test_f1)"
   ]
  }
 ],
 "metadata": {
  "kernelspec": {
   "display_name": "Python 3",
   "language": "python",
   "name": "python3"
  },
  "language_info": {
   "codemirror_mode": {
    "name": "ipython",
    "version": 3
   },
   "file_extension": ".py",
   "mimetype": "text/x-python",
   "name": "python",
   "nbconvert_exporter": "python",
   "pygments_lexer": "ipython3",
   "version": "3.6.5"
  }
 },
 "nbformat": 4,
 "nbformat_minor": 2
}
