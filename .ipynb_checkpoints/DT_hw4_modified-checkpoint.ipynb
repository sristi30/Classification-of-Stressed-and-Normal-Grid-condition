{
 "cells": [
  {
   "cell_type": "code",
   "execution_count": 20,
   "metadata": {},
   "outputs": [],
   "source": [
    "import pandas as pd\n",
    "import numpy as np\n",
    "from sklearn import metrics\n",
    "from sklearn.tree import DecisionTreeClassifier, export_graphviz\n",
    "from sklearn.metrics import confusion_matrix\n",
    "from sklearn.model_selection import KFold\n",
    "import pickle\n",
    "from sklearn.ensemble import RandomForestClassifier\n",
    "from sklearn.model_selection import GridSearchCV\n",
    "from sklearn.metrics import roc_auc_score"
   ]
  },
  {
   "cell_type": "code",
   "execution_count": 21,
   "metadata": {
    "collapsed": true
   },
   "outputs": [],
   "source": [
    "loc = \"HW_TESLA.xlt\""
   ]
  },
  {
   "cell_type": "code",
   "execution_count": 22,
   "metadata": {
    "scrolled": true
   },
   "outputs": [
    {
     "name": "stdout",
     "output_type": "stream",
     "text": [
      "(4150, 133)\n"
     ]
    }
   ],
   "source": [
    "df = pd.read_excel (r'HW_TESLA.xlt')\n",
    "print (df.shape)"
   ]
  },
  {
   "cell_type": "code",
   "execution_count": 23,
   "metadata": {
    "collapsed": true
   },
   "outputs": [],
   "source": [
    "#splitting into train and test \n",
    "train = df.sample(frac=0.75,random_state=200) #random state is a seed value\n",
    "test = df.drop(train.index)"
   ]
  },
  {
   "cell_type": "code",
   "execution_count": 24,
   "metadata": {},
   "outputs": [
    {
     "data": {
      "text/plain": [
       "(3112, 133)"
      ]
     },
     "execution_count": 24,
     "metadata": {},
     "output_type": "execute_result"
    }
   ],
   "source": [
    "train.shape"
   ]
  },
  {
   "cell_type": "code",
   "execution_count": 25,
   "metadata": {},
   "outputs": [
    {
     "data": {
      "text/plain": [
       "(1038, 133)"
      ]
     },
     "execution_count": 25,
     "metadata": {},
     "output_type": "execute_result"
    }
   ],
   "source": [
    "test.shape"
   ]
  },
  {
   "cell_type": "code",
   "execution_count": 26,
   "metadata": {
    "collapsed": true
   },
   "outputs": [],
   "source": [
    "features = list(train.columns[1:])\n",
    "x = train[features]\n",
    "y = train['STATIC']\n",
    "x_test = test[features]\n",
    "y_test = test['STATIC']\n"
   ]
  },
  {
   "cell_type": "markdown",
   "metadata": {},
   "source": [
    "# Decision tree classifier on training (50% ) data and val on 25% data"
   ]
  },
  {
   "cell_type": "code",
   "execution_count": 27,
   "metadata": {},
   "outputs": [],
   "source": [
    "#apply decision tree \n",
    "# features = list(train.columns[1:])\n",
    "# x = train[features]\n",
    "# y = train['STATIC']\n",
    "# # dt = DecisionTreeClassifier(min_samples_split=20, random_state=99)\n",
    "# dt = DecisionTreeClassifier(min_samples_leaf=2,max_depth=5, random_state=0)\n",
    "# dt.fit(x, y)"
   ]
  },
  {
   "cell_type": "markdown",
   "metadata": {},
   "source": [
    "# Finding False Positive and False Negative"
   ]
  },
  {
   "cell_type": "code",
   "execution_count": 28,
   "metadata": {},
   "outputs": [],
   "source": [
    "# x_val = val[features]\n",
    "# y_val = val['STATIC']\n",
    "# y_pred = dt.predict(x_val)\n",
    "# print(\"Validation Accuracy:\",metrics.accuracy_score(y_val, y_pred))\n",
    "# tn, fp, fn, tp = confusion_matrix(y_val, y_pred).ravel()\n",
    "# print(tn,fp,fn,tp)"
   ]
  },
  {
   "cell_type": "code",
   "execution_count": 29,
   "metadata": {},
   "outputs": [],
   "source": [
    "# x_test = test[features]\n",
    "# y_test = test['STATIC']\n",
    "# y_pred = dt.predict(x_test)\n",
    "# print(\"Test accuracy:\",metrics.accuracy_score(y_test, y_pred))\n",
    "# tn, fp, fn, tp = confusion_matrix(y_test, y_pred).ravel()\n",
    "# print(tn,fp,fn,tp)"
   ]
  },
  {
   "cell_type": "markdown",
   "metadata": {
    "collapsed": true
   },
   "source": [
    "# DT using K fold cross validation"
   ]
  },
  {
   "cell_type": "code",
   "execution_count": 32,
   "metadata": {},
   "outputs": [
    {
     "name": "stdout",
     "output_type": "stream",
     "text": [
      "{'criterion': 'gini', 'max_depth': 3, 'min_samples_leaf': 3, 'min_samples_split': 2}\n",
      "0.987146529562982\n",
      "{'criterion': 'entropy', 'max_depth': 5, 'min_samples_leaf': 2, 'min_samples_split': 2}\n",
      "0.9961439588688946\n",
      "{'criterion': 'entropy', 'max_depth': 5, 'min_samples_leaf': 1, 'min_samples_split': 3}\n",
      "0.9897172236503856\n",
      "{'criterion': 'gini', 'max_depth': 4, 'min_samples_leaf': 2, 'min_samples_split': 2}\n",
      "0.9961439588688946\n",
      "Validation Accuracy: 0.9922879177377891\n"
     ]
    }
   ],
   "source": [
    "kf = KFold(n_splits=3, shuffle = True, random_state=200)\n",
    "mean_accuracy = 0\n",
    "train_x = x.values # to convert df to numpy arrays\n",
    "train_y = y.values\n",
    "best_accuracy = 0\n",
    "for train_index, test_index in kf.split(train_x):\n",
    "    kx_train= train_x[train_index]\n",
    "    kx_test = train_x[test_index]\n",
    "    ky_train, ky_test = train_y[train_index], train_y[test_index]\n",
    "#     #para search by grid search\n",
    "#     param_grid = {'max_depth': np.arange(3, 6),'min_samples_split':np.arange(2,4),'min_samples_leaf':np.arange(1,4),\n",
    "#               'criterion':['gini','entropy']}\n",
    "#     tree = GridSearchCV(DecisionTreeClassifier(), param_grid)\n",
    "#     tree.fit(kx_train, ky_train)\n",
    "#     tree_preds = tree.predict_proba(kx_test)[:, 1]\n",
    "#     tree_performance = roc_auc_score(ky_test, tree_preds)\n",
    "#     print(tree.best_params_)\n",
    "    # Decision tree\n",
    "#     best_dp = tree.best_params_['max_depth']\n",
    "#     min_smple_split = tree.best_params_['min_samples_split']\n",
    "#     min_smple_lf = tree.best_params_['min_samples_leaf']\n",
    "#     best_crit = tree.best_params_['criterion']\n",
    "#     dt = DecisionTreeClassifier(min_samples_split = min_smple_split,min_samples_leaf=min_smple_split\n",
    "#                                 ,max_depth = best_dp, criterion = best_crit)\n",
    "    dt = DecisionTreeClassifier(min_samples_split = 2,max_depth=5, random_state=99)\n",
    "    dt.fit(kx_train, ky_train)\n",
    "    y_pred = dt.predict(kx_test)\n",
    "    acc = metrics.accuracy_score(ky_test, y_pred)\n",
    "    print(acc)\n",
    "    if(acc > best_accuracy):\n",
    "        best_accuracy = acc\n",
    "        with open('best_dt.pkl', 'wb') as f:\n",
    "            pickle.dump(dt, f)            \n",
    "    mean_accuracy += acc\n",
    "mean_accuracy /= 4\n",
    "print(\"Validation Accuracy:\", mean_accuracy)"
   ]
  },
  {
   "cell_type": "code",
   "execution_count": 33,
   "metadata": {},
   "outputs": [
    {
     "name": "stdout",
     "output_type": "stream",
     "text": [
      "Test Accuracy:0.9913294797687862\n",
      "# False positive: 1\n",
      "# false negatives: 8\n"
     ]
    }
   ],
   "source": [
    "# Load the pickled model \n",
    "with open('best_dt.pkl', 'rb') as f:\n",
    "    model_from_pickle = pickle.load(f)\n",
    "# Use the loaded pickled model to make predictions \n",
    "pred = model_from_pickle.predict(x_test)\n",
    "print(\"Test Accuracy:\" + str(metrics.accuracy_score(y_test, pred)))\n",
    "tn, fp, fn, tp = confusion_matrix(y_test, pred).ravel()\n",
    "print(\"# False positive: \"+ str(fp)) \n",
    "print(\"# false negatives: \"+str(fn) )"
   ]
  },
  {
   "cell_type": "markdown",
   "metadata": {
    "collapsed": true
   },
   "source": [
    "# Random forest using K fold cross validation"
   ]
  },
  {
   "cell_type": "code",
   "execution_count": 34,
   "metadata": {},
   "outputs": [
    {
     "name": "stdout",
     "output_type": "stream",
     "text": [
      "0.9922879177377892\n",
      "0.9948586118251928\n",
      "0.9897172236503856\n",
      "0.9961439588688946\n",
      "Best Validation Accuracy :  0.9961439588688946\n"
     ]
    }
   ],
   "source": [
    "kf = KFold(n_splits=4, shuffle = True, random_state=200)\n",
    "mean_accuracy = 0\n",
    "train_x = x.values # to convert df to numpy arrays\n",
    "train_y = y.values\n",
    "best_accuracy = 0\n",
    "for train_index, test_index in kf.split(train_x):\n",
    "    kx_train= train_x[train_index]\n",
    "    kx_test = train_x[test_index]\n",
    "    ky_train, ky_test = train_y[train_index], train_y[test_index]\n",
    "    # Decision tree\n",
    "    RF = RandomForestClassifier(n_estimators=350, max_depth=5, random_state=99)\n",
    "    RF.fit(kx_train, ky_train)\n",
    "    y_pred = RF.predict(kx_test)\n",
    "    acc = metrics.accuracy_score(ky_test, y_pred)\n",
    "    print(acc)\n",
    "    if(acc > best_accuracy):\n",
    "        best_accuracy = acc\n",
    "        with open('best_rf.pkl', 'wb') as f:\n",
    "            pickle.dump(RF, f)            \n",
    "    mean_accuracy += acc\n",
    "mean_accuracy /= 4\n",
    "print(\"Best Validation Accuracy : \", best_accuracy)"
   ]
  },
  {
   "cell_type": "code",
   "execution_count": 35,
   "metadata": {},
   "outputs": [
    {
     "name": "stdout",
     "output_type": "stream",
     "text": [
      "Test Accuracy:0.9961464354527938\n",
      "# False positive: 0\n",
      "# false negatives: 4\n"
     ]
    }
   ],
   "source": [
    "# Load the pickled model \n",
    "with open('best_rf.pkl', 'rb') as f:\n",
    "    model_from_pickle = pickle.load(f)\n",
    "# Use the loaded pickled model to make predictions \n",
    "pred = model_from_pickle.predict(x_test)\n",
    "print(\"Test Accuracy:\" + str(metrics.accuracy_score(y_test, pred)))\n",
    "tn, fp, fn, tp = confusion_matrix(y_test, pred).ravel()\n",
    "print(\"# False positive: \"+ str(fp)) \n",
    "print(\"# false negatives: \"+str(fn) )"
   ]
  },
  {
   "cell_type": "code",
   "execution_count": null,
   "metadata": {
    "collapsed": true
   },
   "outputs": [],
   "source": []
  }
 ],
 "metadata": {
  "kernelspec": {
   "display_name": "Python 3",
   "language": "python",
   "name": "python3"
  },
  "language_info": {
   "codemirror_mode": {
    "name": "ipython",
    "version": 3
   },
   "file_extension": ".py",
   "mimetype": "text/x-python",
   "name": "python",
   "nbconvert_exporter": "python",
   "pygments_lexer": "ipython3",
   "version": "3.6.5"
  }
 },
 "nbformat": 4,
 "nbformat_minor": 2
}
